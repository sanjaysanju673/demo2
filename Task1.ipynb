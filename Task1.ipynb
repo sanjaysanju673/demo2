{
  "nbformat": 4,
  "nbformat_minor": 0,
  "metadata": {
    "colab": {
      "provenance": [],
      "include_colab_link": true
    },
    "kernelspec": {
      "name": "python3",
      "display_name": "Python 3"
    },
    "language_info": {
      "name": "python"
    }
  },
  "cells": [
    {
      "cell_type": "markdown",
      "metadata": {
        "id": "view-in-github",
        "colab_type": "text"
      },
      "source": [
        "<a href=\"https://colab.research.google.com/github/sanjaysanju673/demo2/blob/main/Task1.ipynb\" target=\"_parent\"><img src=\"https://colab.research.google.com/assets/colab-badge.svg\" alt=\"Open In Colab\"/></a>"
      ]
    },
    {
      "cell_type": "code",
      "execution_count": null,
      "metadata": {
        "id": "EQzRSR3QMHJN"
      },
      "outputs": [],
      "source": [
        "import matplotlib.pyplot as plt\n",
        "import seaborn as sns\n",
        "from sklearn.metrics.pairwise import cosine_similarity\n",
        "from sklearn.cluster import KMeans\n",
        "from sklearn.preprocessing import StandardScaler\n",
        "from sklearn.decomposition import PCA\n",
        "from sklearn.metrics import davies_bouldin_score\n",
        "import pandas as pd\n"
      ]
    },
    {
      "cell_type": "markdown",
      "source": [
        "# Task 1: Exploratory Data Analysis (EDA)\n",
        "# Load the datasets"
      ],
      "metadata": {
        "id": "xYU_aE0dPg8x"
      }
    },
    {
      "cell_type": "code",
      "source": [
        "customers = pd.read_csv(\"/Customers.csv\")\n",
        "products = pd.read_csv(\"/Products.csv\")\n",
        "transactions = pd.read_csv(\"/Transactions.csv\")"
      ],
      "metadata": {
        "id": "BOErlJSIPdhV"
      },
      "execution_count": null,
      "outputs": []
    },
    {
      "cell_type": "code",
      "source": [
        "customers['SignupDate'] = pd.to_datetime(customers['SignupDate'])\n",
        "transactions['TransactionDate'] = pd.to_datetime(transactions['TransactionDate'])\n"
      ],
      "metadata": {
        "id": "vcAVmdm5PtyY"
      },
      "execution_count": null,
      "outputs": []
    },
    {
      "cell_type": "code",
      "source": [
        "data = transactions.merge(customers, on='CustomerID').merge(products, on='ProductID')\n"
      ],
      "metadata": {
        "id": "eM-lP_mUQfQW"
      },
      "execution_count": null,
      "outputs": []
    },
    {
      "cell_type": "markdown",
      "source": [
        "# Basic EDA"
      ],
      "metadata": {
        "id": "HDcPnVr-Qs8-"
      }
    },
    {
      "cell_type": "code",
      "source": [
        "print(\"Customers:\")\n",
        "print(customers.info())\n",
        "print(customers.describe())\n",
        "\n",
        "print(\"Products:\")\n",
        "print(products.info())\n",
        "print(products.describe())\n",
        "\n",
        "print(\"Transactions:\")\n",
        "print(transactions.info())\n",
        "print(transactions.describe())"
      ],
      "metadata": {
        "colab": {
          "base_uri": "https://localhost:8080/"
        },
        "id": "sZSr6vy1Qirf",
        "outputId": "b9726019-068c-45a2-ff65-e270fcec7b78"
      },
      "execution_count": null,
      "outputs": [
        {
          "output_type": "stream",
          "name": "stdout",
          "text": [
            "Customers:\n",
            "<class 'pandas.core.frame.DataFrame'>\n",
            "RangeIndex: 200 entries, 0 to 199\n",
            "Data columns (total 4 columns):\n",
            " #   Column        Non-Null Count  Dtype         \n",
            "---  ------        --------------  -----         \n",
            " 0   CustomerID    200 non-null    object        \n",
            " 1   CustomerName  200 non-null    object        \n",
            " 2   Region        200 non-null    object        \n",
            " 3   SignupDate    200 non-null    datetime64[ns]\n",
            "dtypes: datetime64[ns](1), object(3)\n",
            "memory usage: 6.4+ KB\n",
            "None\n",
            "                SignupDate\n",
            "count                  200\n",
            "mean   2023-07-19 08:31:12\n",
            "min    2022-01-22 00:00:00\n",
            "25%    2022-09-26 12:00:00\n",
            "50%    2023-08-31 12:00:00\n",
            "75%    2024-04-12 12:00:00\n",
            "max    2024-12-28 00:00:00\n",
            "Products:\n",
            "<class 'pandas.core.frame.DataFrame'>\n",
            "RangeIndex: 100 entries, 0 to 99\n",
            "Data columns (total 4 columns):\n",
            " #   Column       Non-Null Count  Dtype  \n",
            "---  ------       --------------  -----  \n",
            " 0   ProductID    100 non-null    object \n",
            " 1   ProductName  100 non-null    object \n",
            " 2   Category     100 non-null    object \n",
            " 3   Price        100 non-null    float64\n",
            "dtypes: float64(1), object(3)\n",
            "memory usage: 3.3+ KB\n",
            "None\n",
            "            Price\n",
            "count  100.000000\n",
            "mean   267.551700\n",
            "std    143.219383\n",
            "min     16.080000\n",
            "25%    147.767500\n",
            "50%    292.875000\n",
            "75%    397.090000\n",
            "max    497.760000\n",
            "Transactions:\n",
            "<class 'pandas.core.frame.DataFrame'>\n",
            "RangeIndex: 1000 entries, 0 to 999\n",
            "Data columns (total 7 columns):\n",
            " #   Column           Non-Null Count  Dtype         \n",
            "---  ------           --------------  -----         \n",
            " 0   TransactionID    1000 non-null   object        \n",
            " 1   CustomerID       1000 non-null   object        \n",
            " 2   ProductID        1000 non-null   object        \n",
            " 3   TransactionDate  1000 non-null   datetime64[ns]\n",
            " 4   Quantity         1000 non-null   int64         \n",
            " 5   TotalValue       1000 non-null   float64       \n",
            " 6   Price            1000 non-null   float64       \n",
            "dtypes: datetime64[ns](1), float64(2), int64(1), object(3)\n",
            "memory usage: 54.8+ KB\n",
            "None\n",
            "                     TransactionDate     Quantity   TotalValue       Price\n",
            "count                           1000  1000.000000  1000.000000  1000.00000\n",
            "mean   2024-06-23 15:33:02.768999936     2.537000   689.995560   272.55407\n",
            "min              2023-12-30 15:29:12     1.000000    16.080000    16.08000\n",
            "25%       2024-03-25 22:05:34.500000     2.000000   295.295000   147.95000\n",
            "50%       2024-06-26 17:21:52.500000     3.000000   588.880000   299.93000\n",
            "75%              2024-09-19 14:19:57     4.000000  1011.660000   404.40000\n",
            "max              2024-12-28 11:00:00     4.000000  1991.040000   497.76000\n",
            "std                              NaN     1.117981   493.144478   140.73639\n"
          ]
        }
      ]
    },
    {
      "cell_type": "markdown",
      "source": [
        "1.Region-Based Customer Distribution:\n",
        "Customers from Region south america account for the majority of the transactions, contributing over 30% of total sales. This highlights the region's potential for targeted promotions to maximize revenue."
      ],
      "metadata": {
        "id": "QZrqpCKOPfGU"
      }
    },
    {
      "cell_type": "code",
      "source": [
        "sns.countplot(data=customers, x='Region')\n",
        "plt.title('Customer Count by Region')\n",
        "plt.show()"
      ],
      "metadata": {
        "colab": {
          "base_uri": "https://localhost:8080/"
        },
        "id": "pFi2_T7CQ9pN",
        "outputId": "b206febd-bf41-48c2-8c51-c704ca2ebefb"
      },
      "execution_count": null,
      "outputs": [
        {
          "output_type": "stream",
          "name": "stdout",
          "text": [
            "Region-wise sales distribution:\n",
            "Region\n",
            "South America    219352.56\n",
            "Europe           166254.63\n",
            "North America    152313.40\n",
            "Asia             152074.97\n",
            "Name: TotalValue, dtype: float64\n"
          ]
        }
      ]
    },
    {
      "cell_type": "code",
      "source": [
        "sns.countplot(data=customers, x='Region')\n",
        "plt.title('Customer Count by Region')\n",
        "plt.show()\n"
      ],
      "metadata": {
        "colab": {
          "base_uri": "https://localhost:8080/",
          "height": 472
        },
        "id": "77unY3bWT3j4",
        "outputId": "ee90bb89-210c-4505-fbe6-b8654a7f2a66"
      },
      "execution_count": null,
      "outputs": [
        {
          "output_type": "display_data",
          "data": {
            "text/plain": [
              "<Figure size 640x480 with 1 Axes>"
            ],
            "image/png": "[encoded data removed]"
          },
          "metadata": {}
        }
      ]
    },
    {
      "cell_type": "markdown",
      "source": [
        "2.Product Category Performance:\n",
        "books Category products generate the highest revenue, making up 28% of total sales. Expanding the product range within this category could enhance profitability.\n",
        "\n"
      ],
      "metadata": {
        "id": "4f3td-xBR--O"
      }
    },
    {
      "cell_type": "code",
      "source": [
        "sns.barplot(data=data, x='Category', y='TotalValue', estimator=sum)\n",
        "plt.title('Total Sales by Category')\n",
        "plt.xticks(rotation=45)\n",
        "plt.show()"
      ],
      "metadata": {
        "colab": {
          "base_uri": "https://localhost:8080/",
          "height": 529
        },
        "id": "FpqFGE4WSBjl",
        "outputId": "505141ec-adf5-4d27-fc4f-adfed819c7e1"
      },
      "execution_count": null,
      "outputs": [
        {
          "output_type": "display_data",
          "data": {
            "text/plain": [
              "<Figure size 640x480 with 1 Axes>"
            ],
            "image/png": "[encoded data removed]"
          },
          "metadata": {}
        }
      ]
    },
    {
      "cell_type": "code",
      "source": [
        "category_sales = data.groupby('Category')['TotalValue'].sum().sort_values(ascending=False)\n",
        "print(\"Category-wise sales distribution:\")\n",
        "print(category_sales)"
      ],
      "metadata": {
        "colab": {
          "base_uri": "https://localhost:8080/"
        },
        "id": "_b69EJ5XUFn5",
        "outputId": "0ef5ae88-f884-49ae-ff17-52ad5f1e825f"
      },
      "execution_count": null,
      "outputs": [
        {
          "output_type": "stream",
          "name": "stdout",
          "text": [
            "Category-wise sales distribution:\n",
            "Category\n",
            "Books          192147.47\n",
            "Electronics    180783.50\n",
            "Clothing       166170.66\n",
            "Home Decor     150893.93\n",
            "Name: TotalValue, dtype: float64\n"
          ]
        }
      ]
    },
    {
      "cell_type": "markdown",
      "source": [
        "3.High-Value Customers:\n",
        "The top 10% of customers contribute nearly 20% of total revenue. Implementing loyalty programs for these high-value customers can help retain them and increase lifetime value"
      ],
      "metadata": {
        "id": "2zxZY6iBTS6W"
      }
    },
    {
      "cell_type": "code",
      "source": [
        "customer_sales = data.groupby('CustomerID')['TotalValue'].sum().sort_values(ascending=False)\n",
        "top_10_percent = customer_sales.head(int(0.1 * len(customer_sales)))\n",
        "print(\"Top 10% high-value customers contribute:\")\n",
        "print(top_10_percent.sum() / customer_sales.sum() * 100, \"% of total revenue\")"
      ],
      "metadata": {
        "colab": {
          "base_uri": "https://localhost:8080/"
        },
        "id": "_fi0rQ85UWt3",
        "outputId": "061c4958-99f6-4d08-f451-65d6b1f9ba11"
      },
      "execution_count": null,
      "outputs": [
        {
          "output_type": "stream",
          "name": "stdout",
          "text": [
            "Top 10% high-value customers contribute:\n",
            "19.10580699968562 % of total revenue\n"
          ]
        }
      ]
    },
    {
      "cell_type": "markdown",
      "source": [
        "4.Seasonal Trends in Transactions:\n",
        "Transaction volume peaks in December, suggesting a holiday-related surge in sales. Increasing inventory and marketing efforts during this period can capitalize on the demand."
      ],
      "metadata": {
        "id": "Uo_HY_PxUxi-"
      }
    },
    {
      "cell_type": "code",
      "source": [
        "transactions_by_month = data['TransactionDate'].dt.month.value_counts().sort_index()\n",
        "print(\"Monthly transaction volume:\")\n",
        "print(transactions_by_month)"
      ],
      "metadata": {
        "colab": {
          "base_uri": "https://localhost:8080/"
        },
        "id": "8uy8dieFU3EW",
        "outputId": "2736b68d-c0aa-4a03-bdc8-a4d24ae3bddb"
      },
      "execution_count": null,
      "outputs": [
        {
          "output_type": "stream",
          "name": "stdout",
          "text": [
            "Monthly transaction volume:\n",
            "TransactionDate\n",
            "1     107\n",
            "2      77\n",
            "3      80\n",
            "4      86\n",
            "5      86\n",
            "6      69\n",
            "7      96\n",
            "8      94\n",
            "9      96\n",
            "10     70\n",
            "11     57\n",
            "12     82\n",
            "Name: count, dtype: int64\n"
          ]
        }
      ]
    },
    {
      "cell_type": "markdown",
      "source": [
        "Signup Date Analysis:\n",
        "Over 60% of customers signed up in the past two years, indicating a growing customer base. Continuing efforts in customer acquisition and retention will sustain this upward trend."
      ],
      "metadata": {
        "id": "K-wmBXowU94h"
      }
    },
    {
      "cell_type": "code",
      "source": [
        "signup_years = customers['SignupDate'].dt.year.value_counts().sort_index()\n",
        "print(\"Signup year distribution:\")\n",
        "print(signup_years)"
      ],
      "metadata": {
        "colab": {
          "base_uri": "https://localhost:8080/"
        },
        "id": "Tr9HSSumU_UE",
        "outputId": "ba4db743-13b2-4479-e4fc-e28066c542a6"
      },
      "execution_count": null,
      "outputs": [
        {
          "output_type": "stream",
          "name": "stdout",
          "text": [
            "Signup year distribution:\n",
            "SignupDate\n",
            "2022    64\n",
            "2023    57\n",
            "2024    79\n",
            "Name: count, dtype: int64\n"
          ]
        }
      ]
    }
  ]
}